{
 "cells": [
  {
   "cell_type": "markdown",
   "metadata": {},
   "source": [
    "# Practice Exercises: Control Flow\n",
    "\n",
    "## Exercise 1: Grade Calculator\n",
    "Create a program that calculates letter grades based on numerical scores.\n"
   ]
  },
  {
   "cell_type": "code",
   "execution_count": null,
   "metadata": {
    "dotnet_interactive": {
     "language": "csharp"
    },
    "polyglot_notebook": {
     "kernelName": "csharp"
    }
   },
   "outputs": [],
   "source": [
    "// Use these variables to create a program that outputs your letter grade based on your score \n",
    "int score = 85;//change this value to test your program\n",
    "string grade;\n",
    "\n",
    "// Put your code below this line. \n",
    "\n"
   ]
  },
  {
   "cell_type": "markdown",
   "metadata": {},
   "source": [
    "## Exercise 2: Number Pattern\n",
    "Create a program that prints a pattern of numbers using nested loops."
   ]
  },
  {
   "cell_type": "code",
   "execution_count": null,
   "metadata": {
    "dotnet_interactive": {
     "language": "csharp"
    },
    "polyglot_notebook": {
     "kernelName": "csharp"
    }
   },
   "outputs": [
    {
     "name": "stdout",
     "output_type": "stream",
     "text": [
      "1 \n",
      "1 2 \n",
      "1 2 3 \n",
      "1 2 3 4 \n",
      "1 2 3 4 5 \n"
     ]
    }
   ],
   "source": [
    "// This is an example of nested loops. \n",
    "// This is the expected output\n",
    "//1 \n",
    "//1 2\n",
    "//1 2 \n",
    "//1 2 3\n",
    "//1 2 3 4 \n",
    "//1 2 3 4 5\n",
    "\n",
    "// Change this code to produce a different pattern. Try to create a reverse pyramid.  \n",
    "int rows = 5;\n",
    "\n",
    "for (int i = 1; i <= rows; i++)\n",
    "{\n",
    "    for (int j = 1; j <= i; j++)\n",
    "    {\n",
    "        Console.Write(j + \" \");\n",
    "    }\n",
    "    Console.WriteLine();\n",
    "}\n",
    "\n"
   ]
  }
 ],
 "metadata": {
  "kernelspec": {
   "display_name": ".NET (C#)",
   "language": "C#",
   "name": ".net-csharp"
  },
  "polyglot_notebook": {
   "kernelInfo": {
    "defaultKernelName": "csharp",
    "items": [
     {
      "aliases": [],
      "name": "csharp"
     }
    ]
   }
  }
 },
 "nbformat": 4,
 "nbformat_minor": 2
}
