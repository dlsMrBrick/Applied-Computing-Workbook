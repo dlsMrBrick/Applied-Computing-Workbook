{
 "cells": [
  {
   "cell_type": "markdown",
   "metadata": {},
   "source": [
    "# Practice Exercises: Basic Types and Variables\n",
    "\n",
    "## Exercise 1: Student Record\n",
    "Create variables to store student information using appropriate data types and naming conventions.\n",
    "Use the Data table below to guide your creation of the approiate varibales and data types. Then output all the variables on seperate lines.\n",
    "Variable        Type        Value\n",
    "Student ID\t    Integer\t    1001\n",
    "First Name\t    String\t    John\n",
    "Last Name\t    String\t    Smith\n",
    "Average Grade\tFloat\t    68.86\n",
    "Active student\tBool\t    True\n"
   ]
  },
  {
   "cell_type": "code",
   "execution_count": null,
   "metadata": {
    "dotnet_interactive": {
     "language": "csharp"
    },
    "polyglot_notebook": {
     "kernelName": "csharp"
    }
   },
   "outputs": [
    {
     "name": "stdout",
     "output_type": "stream",
     "text": [
      "Student ID: 1001\n",
      "Name: John Smith\n",
      "GPA: 3.75\n",
      "Active Status: True\n"
     ]
    }
   ],
   "source": [
    "// Exercise 1: Create and display student information\n",
    "// Create your variable below this line \n",
    "\n",
    "\n",
    "\n",
    "\n",
    "//Create your outputs below this line\n"
   ]
  },
  {
   "cell_type": "markdown",
   "metadata": {},
   "source": [
    "## Exercise 2: Type Conversion\n",
    "Sometimes we need to beable to change one variable type into another. This can be done serveral differnt ways in c#\n",
    "\n",
    "You can have implicit and explicit conversions in C#. It is also best practice to include error checking in your conversions to prevent program crashes. \n",
    "\n",
    "This webpage will guide you through data type conversions further. \n",
    "https://learn.microsoft.com/en-us/dotnet/standard/base-types/type-conversion\n",
    "\n",
    "Use the practice space below to practice your type conversions. "
   ]
  },
  {
   "cell_type": "code",
   "execution_count": null,
   "metadata": {
    "dotnet_interactive": {
     "language": "csharp"
    },
    "polyglot_notebook": {
     "kernelName": "csharp"
    }
   },
   "outputs": [
    {
     "name": "stdout",
     "output_type": "stream",
     "text": [
      "String to Int: 42\n",
      "Int to Float: 42\n",
      "Back to String: 42\n"
     ]
    }
   ],
   "source": [
    "// Exercise 2: Type conversion practice.\n",
    "// Use this space to practice doing the following common conversions.\n",
    "// string to int\n",
    "// int to string \n",
    "// int to float\n",
    "// float to int\n",
    "// bool to string \n",
    "// string to bool   \n",
    "\n",
    "// Put your code below this line. "
   ]
  }
 ],
 "metadata": {
  "kernelspec": {
   "display_name": ".NET (C#)",
   "language": "C#",
   "name": ".net-csharp"
  },
  "polyglot_notebook": {
   "kernelInfo": {
    "defaultKernelName": "csharp",
    "items": [
     {
      "aliases": [],
      "name": "csharp"
     }
    ]
   }
  }
 },
 "nbformat": 4,
 "nbformat_minor": 2
}
