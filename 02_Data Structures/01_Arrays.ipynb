{
 "cells": [
  {
   "cell_type": "markdown",
   "metadata": {},
   "source": [
    "# Arrays \n",
    "\n",
    "## One Dimensional Arrays \n",
    "Arrays are used to store multiple values in a single structure, instead of declaring separate variables for each value needed in the program.\n",
    "Arrays are limited to storing a SINGLE Data type. \n",
    "Arrays use indexes to track the position of a varibale within the structure, in C# indexes start at 0.\n",
    "\n",
    "To declare an array, define the variable type with square brackets:\n"
   ]
  },
  {
   "cell_type": "code",
   "execution_count": null,
   "metadata": {},
   "outputs": [],
   "source": [
    "string[] cars;"
   ]
  },
  {
   "cell_type": "markdown",
   "metadata": {},
   "source": [
    "We have now declared a variable that holds an array of strings.\n",
    "\n",
    "To insert values to it, we can use an array literal - place the values in a comma-separated list, inside curly braces:"
   ]
  },
  {
   "cell_type": "code",
   "execution_count": null,
   "metadata": {},
   "outputs": [],
   "source": [
    "string[] cars = {\"Volvo\", \"BMW\", \"Ford\", \"Mazda\"};"
   ]
  },
  {
   "cell_type": "markdown",
   "metadata": {},
   "source": [
    "To create an array of integers, you could write:"
   ]
  },
  {
   "cell_type": "code",
   "execution_count": null,
   "metadata": {},
   "outputs": [],
   "source": [
    "int[] myNum = {10, 20, 30, 40};"
   ]
  },
  {
   "cell_type": "markdown",
   "metadata": {},
   "source": [
    "You access an array element by referring to the index number.\n",
    "\n",
    "This statement accesses the value of the first element in cars:"
   ]
  },
  {
   "cell_type": "code",
   "execution_count": null,
   "metadata": {},
   "outputs": [],
   "source": [
    "string[] cars = {\"Volvo\", \"BMW\", \"Ford\", \"Mazda\"};\n",
    "Console.WriteLine(cars[0]);\n",
    "// Outputs Volvo"
   ]
  },
  {
   "cell_type": "markdown",
   "metadata": {},
   "source": [
    "You can change the value of an item in an array using the following code:"
   ]
  },
  {
   "cell_type": "code",
   "execution_count": null,
   "metadata": {},
   "outputs": [],
   "source": [
    "string[] cars = {\"Volvo\", \"BMW\", \"Ford\", \"Mazda\"};\n",
    "cars[2] = \"Toyota\"\n",
    "//This would change the array to be \"Volvo\", \"BMW\", \"Toyota\", \"Mazda\""
   ]
  },
  {
   "cell_type": "markdown",
   "metadata": {},
   "source": [
    "# Practice:\n",
    "\n",
    "## Exercise 1: Working with 1D Arrays\n",
    "Create and manipulate a one-dimensional array of student scores.\n",
    "1. Your code block should initalise and array of intergers that represent the score out of 100 that students got on a quiz\n",
    "2. Your code block should then print out each variable stored with in the array. \n",
    "\n",
    "Challenge 1 \n",
    "Have your code block calculate the average score of your array \n",
    "\n",
    "Challenge 2 \n",
    "Have your code block print out only the highest grade in the array\n",
    "\n",
    "Challenge 3 \n",
    "Have your code block print out the values from smallest to largest"
   ]
  },
  {
   "cell_type": "code",
   "execution_count": null,
   "metadata": {
    "vscode": {
     "languageId": "csharp"
    }
   },
   "outputs": [],
   "source": [
    "// Create an array of integer scores\n",
    "\n",
    "// Print out the values in the array \n",
    "\n",
    "// Calculate average score\n",
    "\n",
    "// Print out the largest value only \n",
    "\n",
    "// Sort the array smallest to largest\n"
   ]
  },
  {
   "cell_type": "markdown",
   "metadata": {},
   "source": [
    "# Two Dimensional Arrays\n",
    "\n",
    "In the previous section, you learned about arrays, which is also known as single dimension (1D) arrays. These are great, and something you will use a lot while programming in C#. However, if you want to store data as a tabular form, like a table with rows and columns (think excell spreadsheet), you need to get familiar with multidimensional arrays.\n",
    "\n",
    "A multidimensional array is basically an array of arrays.\n",
    "Two dimensional Arrays have similar limitations as 1D arrays in that they can still only store a single data type. \n",
    "\n",
    "Arrays can have any number of dimensions. The most common are two-dimensional arrays (2D).\n",
    "To create a 2D array, add each array within its own set of curly braces, and insert a comma (,) inside the square brackets:"
   ]
  },
  {
   "cell_type": "code",
   "execution_count": null,
   "metadata": {},
   "outputs": [],
   "source": [
    "int[,] numbers = { {1, 4, 2}, {3, 6, 8} };"
   ]
  },
  {
   "cell_type": "markdown",
   "metadata": {},
   "source": [
    "The single comma [,] specifies that the array is two-dimensional. A three-dimensional array would have two commas: int[,,]."
   ]
  },
  {
   "cell_type": "markdown",
   "metadata": {},
   "source": [
    "## Accessing a 2D Array\n",
    "To access an element of a two-dimensional array, you must specify two indexes: one for the array, and one for the element inside that array. Or better yet, with the table visualization in mind; one for the row and one for the column (see example below).\n",
    "\n",
    "This statement accesses the value of the element in the first row (0) and third column (2) of the numbers array:"
   ]
  },
  {
   "cell_type": "code",
   "execution_count": null,
   "metadata": {},
   "outputs": [],
   "source": [
    "int[,] numbers = { {1, 4, 2}, {3, 6, 8} };\n",
    "Console.WriteLine(numbers[0, 2]);  // Outputs 2"
   ]
  },
  {
   "cell_type": "markdown",
   "metadata": {},
   "source": [
    "Just like in 1D arrays you can also change the value of an element.\n",
    "The only difference is that instead of a single index to change the value we need to use 2 indexes to identify the correct element. \n",
    "\n",
    "The following example will change the value of the element in the first row (0) and first column (0):"
   ]
  },
  {
   "cell_type": "code",
   "execution_count": null,
   "metadata": {},
   "outputs": [],
   "source": [
    "int[,] numbers = { {1, 4, 2}, {3, 6, 8} };\n",
    "numbers[0, 0] = 5;  // Change value of the very first element from 1 to 5\n",
    "Console.WriteLine(numbers[0, 0]); // Outputs 5 instead of 1"
   ]
  },
  {
   "cell_type": "markdown",
   "metadata": {},
   "source": [
    "## Looping through 2D arrays\n",
    "You can loop through a multidimensional array several ways. \n",
    "The most straight forward is using a foreach loop.\n",
    "\n",
    "The other method is a counted for loop. The challenge with using a for loop is that you need 1 loop per dimension of the array and they need to be nested."
   ]
  },
  {
   "cell_type": "code",
   "execution_count": null,
   "metadata": {},
   "outputs": [],
   "source": [
    "\n",
    "// a foreach loop iterating though a 2D array\n",
    "int[,] numbers = { {1, 4, 2}, {3, 6, 8} };\n",
    "foreach (int i in numbers)\n",
    "{\n",
    "  Console.WriteLine(i);\n",
    "} \n",
    "\n",
    "// nested for loops iterating through a 2D array\n",
    "int[,] numbers = { {1, 4, 2}, {3, 6, 8} };\n",
    "\n",
    "for (int i = 0; i < numbers.GetLength(0); i++) \n",
    "{ \n",
    "  for (int j = 0; j < numbers.GetLength(1); j++) \n",
    "  { \n",
    "    Console.WriteLine(numbers[i, j]); \n",
    "  } \n",
    "}  "
   ]
  },
  {
   "cell_type": "markdown",
   "metadata": {},
   "source": [
    "## Exercise 2: 2D Array - Grade Matrix\n",
    "Create and manipulate a two-dimensional array representing student grades across 4 different quizes.\n",
    "\n",
    "1. Create a 2D array that stores the scores of students across 4 different quizes\n",
    "2. Your code block should then print out each variable stored with in each dimension of array. Label each dimension when you print it out from quiz 1-4.\n",
    "\n",
    "Challenge 1:\n",
    "\n",
    "Have your code block calculate the average score of each dimension of the array \n",
    "\n",
    "Challenge 1.5:\n",
    "\n",
    "Have your code block calculate the average score of the entire array  \n",
    "\n",
    "Challenge 2:\n",
    "\n",
    "Have your code block print out only the highest grade in each dimension of the array\n",
    "\n",
    "Challenge 2.5: \n",
    "\n",
    "Have your code block print out only the highest grade in the entire array\n",
    "\n",
    "Challenge 3:\n",
    "\n",
    "Have your code block print out the values from smallest to largest for each dimension."
   ]
  },
  {
   "cell_type": "code",
   "execution_count": null,
   "metadata": {
    "vscode": {
     "languageId": "csharp"
    }
   },
   "outputs": [],
   "source": [
    "// Create a 2D array of grades (5 students, 4 subjects)\n",
    "\n",
    "// Print out the values in the array with the labels quiz 1-4\n",
    "\n",
    "// Calculate average score of each quiz \n",
    "\n",
    "// Calculate the total average\n",
    "\n",
    "// Print out the largest value of each quiz \n",
    "\n",
    "\n",
    "// Print out the largest value of the entire array\n",
    "\n",
    "// Sort the each quiz from smallest to largest\n"
   ]
  }
 ],
 "metadata": {
  "kernelspec": {
   "display_name": ".NET (C#)",
   "language": "C#",
   "name": "dotnet-csharp"
  }
 },
 "nbformat": 4,
 "nbformat_minor": 2
}
